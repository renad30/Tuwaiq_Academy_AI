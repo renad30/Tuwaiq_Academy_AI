{
  "cells": [
    {
      "cell_type": "markdown",
      "metadata": {
        "id": "view-in-github",
        "colab_type": "text"
      },
      "source": [
        "<a href=\"https://colab.research.google.com/github/renad30/Tuwaiq_Academy_AI/blob/main/Python_Rev_2.ipynb\" target=\"_parent\"><img src=\"https://colab.research.google.com/assets/colab-badge.svg\" alt=\"Open In Colab\"/></a>"
      ]
    },
    {
      "cell_type": "markdown",
      "id": "7cf91647",
      "metadata": {
        "id": "7cf91647"
      },
      "source": [
        "# Python Programming Language 2\n",
        "\n",
        "<img src=\"data:image/png;base64,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\">"
      ]
    },
    {
      "cell_type": "markdown",
      "id": "ba7ad600",
      "metadata": {
        "id": "ba7ad600"
      },
      "source": [
        "# 1. Functions in Python\n",
        "\n",
        "A function is a block of code which only runs when it is called."
      ]
    },
    {
      "cell_type": "markdown",
      "id": "11dd0949",
      "metadata": {
        "id": "11dd0949"
      },
      "source": [
        "## 1.1 Simple function"
      ]
    },
    {
      "cell_type": "markdown",
      "id": "d75fc023",
      "metadata": {
        "id": "d75fc023"
      },
      "source": [
        "#### Define a function"
      ]
    },
    {
      "cell_type": "code",
      "execution_count": null,
      "id": "c626cc9c",
      "metadata": {
        "id": "c626cc9c"
      },
      "outputs": [],
      "source": [
        "# you can use def to define a function in python\n",
        "def name(parm: str) -> None:\n",
        "    print(parm)\n",
        "    return parm"
      ]
    },
    {
      "cell_type": "code",
      "execution_count": null,
      "id": "d477bdc6",
      "metadata": {
        "id": "d477bdc6",
        "outputId": "4ab2f29c-ee56-43fd-a5fe-fcc4d2f62794"
      },
      "outputs": [
        {
          "name": "stdout",
          "output_type": "stream",
          "text": [
            "hi\n"
          ]
        },
        {
          "data": {
            "text/plain": [
              "1"
            ]
          },
          "execution_count": 39,
          "metadata": {},
          "output_type": "execute_result"
        }
      ],
      "source": [
        "# To call a function, use the function name followed by parenthesis\n",
        "name()\n",
        "1"
      ]
    },
    {
      "cell_type": "code",
      "execution_count": null,
      "id": "c6f19b4b",
      "metadata": {
        "id": "c6f19b4b"
      },
      "outputs": [],
      "source": [
        "x: int = \"x\""
      ]
    },
    {
      "cell_type": "code",
      "execution_count": null,
      "id": "466cd9ae",
      "metadata": {
        "id": "466cd9ae",
        "outputId": "cc9baf15-e52b-4f73-90b0-dcc6dec17052"
      },
      "outputs": [
        {
          "data": {
            "text/plain": [
              "'x'"
            ]
          },
          "execution_count": 44,
          "metadata": {},
          "output_type": "execute_result"
        }
      ],
      "source": [
        "x"
      ]
    },
    {
      "cell_type": "markdown",
      "id": "4f0c06cb",
      "metadata": {
        "id": "4f0c06cb"
      },
      "source": [
        "### Arguements and Parameters"
      ]
    },
    {
      "cell_type": "code",
      "execution_count": null,
      "id": "d046479d",
      "metadata": {
        "id": "d046479d",
        "outputId": "cc92d305-6244-4c20-abf3-8f528ce6e81f"
      },
      "outputs": [
        {
          "name": "stdout",
          "output_type": "stream",
          "text": [
            "7\n"
          ]
        }
      ],
      "source": [
        "def add(a, b):\n",
        "    return a+b\n",
        "\n",
        "x = add(5, 2)\n",
        "print(x)\n"
      ]
    },
    {
      "cell_type": "markdown",
      "id": "fa1813ae",
      "metadata": {
        "id": "fa1813ae"
      },
      "source": [
        "#### return vs print"
      ]
    },
    {
      "cell_type": "code",
      "execution_count": null,
      "id": "f95114c6",
      "metadata": {
        "id": "f95114c6",
        "outputId": "f53bd27f-16af-4d7d-c8b6-4291d227c412"
      },
      "outputs": [
        {
          "name": "stdout",
          "output_type": "stream",
          "text": [
            "this output from return: 5\n",
            "5\n",
            "this output from print: None\n"
          ]
        }
      ],
      "source": [
        "#using return\n",
        "\n",
        "def add(a,b):\n",
        "\n",
        "    return a + b\n",
        "\n",
        "result = add(2,3)\n",
        "print(f'this output from return: {result}')\n",
        "\n",
        "#using print\n",
        "\n",
        "\n",
        "def add(a,b):\n",
        "\n",
        "    print(a + b)\n",
        "\n",
        "result = add(2,3)\n",
        "print(f'this output from print: {result}')"
      ]
    },
    {
      "cell_type": "markdown",
      "id": "7a4a6f98",
      "metadata": {
        "id": "7a4a6f98"
      },
      "source": [
        "## Scope of the function"
      ]
    },
    {
      "cell_type": "code",
      "execution_count": null,
      "id": "a2b40e2f",
      "metadata": {
        "id": "a2b40e2f"
      },
      "outputs": [],
      "source": []
    },
    {
      "cell_type": "code",
      "execution_count": null,
      "id": "334add2d",
      "metadata": {
        "id": "334add2d",
        "outputId": "18a492a6-5e51-45ac-cf91-beb5e7b22987"
      },
      "outputs": [
        {
          "name": "stdout",
          "output_type": "stream",
          "text": [
            "Python is fantastic\n"
          ]
        }
      ],
      "source": [
        "x = \"awesome\" # Global Variable\n",
        "\n",
        "def myfunc():\n",
        "    global x\n",
        "    x = \"fantastic\" # local Variable\n",
        "\n",
        "myfunc()\n",
        "print(\"Python is \" + x)"
      ]
    },
    {
      "cell_type": "code",
      "execution_count": null,
      "id": "50878852",
      "metadata": {
        "id": "50878852",
        "outputId": "4f234320-df32-48ad-9061-2d6936cf354b"
      },
      "outputs": [
        {
          "data": {
            "text/plain": [
              "[2, 1]"
            ]
          },
          "execution_count": 4,
          "metadata": {},
          "output_type": "execute_result"
        }
      ],
      "source": [
        "def add_one(a):\n",
        "    a.append(1)\n",
        "\n",
        "my_list = [2]\n",
        "add_one(my_list)\n",
        "my_list"
      ]
    },
    {
      "cell_type": "code",
      "execution_count": null,
      "id": "8c790944",
      "metadata": {
        "id": "8c790944"
      },
      "outputs": [],
      "source": []
    },
    {
      "cell_type": "code",
      "execution_count": null,
      "id": "7647ad40",
      "metadata": {
        "id": "7647ad40",
        "outputId": "f7c88763-10ab-4fe3-b32c-93ff649ca6f7"
      },
      "outputs": [
        {
          "data": {
            "text/plain": [
              "1"
            ]
          },
          "execution_count": 7,
          "metadata": {},
          "output_type": "execute_result"
        }
      ],
      "source": [
        "def make_it_two(x):\n",
        "    x= 2\n",
        "\n",
        "number_one = 1\n",
        "make_it_two(number_one)\n",
        "number_one"
      ]
    },
    {
      "cell_type": "markdown",
      "id": "9bcfaf28",
      "metadata": {
        "id": "9bcfaf28"
      },
      "source": [
        "## *args and **kwargs\n",
        "\n",
        "*args allows a function to accept any number of positional arguments.\n",
        "convention, the name args is used, but any valid variable name can be used\n",
        "\n",
        "**kwargs allows a function to accept any number of keyword arguments (arguments that are passed as key-value pairs)."
      ]
    },
    {
      "cell_type": "code",
      "execution_count": null,
      "id": "399fa02b",
      "metadata": {
        "id": "399fa02b",
        "outputId": "4f874446-e145-4fd5-c7ea-9524157a6365"
      },
      "outputs": [
        {
          "data": {
            "text/plain": [
              "21"
            ]
          },
          "execution_count": 49,
          "metadata": {},
          "output_type": "execute_result"
        }
      ],
      "source": [
        "def add(*numbers):\n",
        "    sum = 0\n",
        "    for i in numbers:\n",
        "        sum += i\n",
        "    return sum\n",
        "add(1,2,3,4,5,6)"
      ]
    },
    {
      "cell_type": "code",
      "execution_count": null,
      "id": "259308cc",
      "metadata": {
        "id": "259308cc",
        "outputId": "818d20d4-aedb-4e28-cafe-ab9d76e747bc"
      },
      "outputs": [
        {
          "data": {
            "text/plain": [
              "3"
            ]
          },
          "execution_count": 57,
          "metadata": {},
          "output_type": "execute_result"
        }
      ],
      "source": [
        "def inf(**data):\n",
        "    total =0\n",
        "    for key, value in data.items():\n",
        "        for i in value:\n",
        "            if key == \"sum\":\n",
        "                total += i\n",
        "            elif key == \"sub\":\n",
        "                total -= i\n",
        "\n",
        "    return total\n",
        "\n",
        "inf(sum=[1,2,3], sub=[1,2])"
      ]
    },
    {
      "cell_type": "code",
      "execution_count": null,
      "id": "2657f282",
      "metadata": {
        "id": "2657f282"
      },
      "outputs": [],
      "source": [
        "def make_pizza(size, *toppings, **options):\n",
        "    print(f\"\\nMaking a {size}-inch pizza with the following toppings:\")\n",
        "\n",
        "    print(\"Your pizza is ready!\")\n",
        "\n",
        "# Ordering different types of pizzas\n",
        "make_pizza(10, 'banana',)"
      ]
    },
    {
      "cell_type": "code",
      "execution_count": null,
      "id": "130de7a1",
      "metadata": {
        "id": "130de7a1",
        "outputId": "68f448e3-a91d-4595-d5d7-4a93fd1886cb"
      },
      "outputs": [
        {
          "name": "stdout",
          "output_type": "stream",
          "text": [
            "\n",
            "Making a 12-inch pizza with the following toppings:\n",
            "- pepperoni\n",
            "- mushrooms\n",
            "- green peppers\n",
            "Your pizza is ready!\n"
          ]
        }
      ],
      "source": [
        "\n",
        "# 1. Basic pizza with some toppings\n",
        "make_pizza(12, 'pepperoni', 'mushrooms', 'green peppers')\n"
      ]
    },
    {
      "cell_type": "code",
      "execution_count": null,
      "id": "4d0b24d5",
      "metadata": {
        "id": "4d0b24d5",
        "outputId": "a863d756-1cd5-49f3-d482-395b6b73f041"
      },
      "outputs": [
        {
          "name": "stdout",
          "output_type": "stream",
          "text": [
            "\n",
            "Making a 16-inch pizza with the following toppings:\n",
            "- bacon\n",
            "- pineapple\n",
            "\n",
            "Additional options:\n",
            "crust: thin\n",
            "extra_cheese: True\n",
            "Your pizza is ready!\n"
          ]
        }
      ],
      "source": [
        "\n",
        "# 2. Pizza with toppings and some additional options\n",
        "make_pizza(16, 'bacon', 'pineapple', crust='thin', extra_cheese=True)\n"
      ]
    },
    {
      "cell_type": "code",
      "execution_count": null,
      "id": "2df2b4b6",
      "metadata": {
        "id": "2df2b4b6"
      },
      "outputs": [],
      "source": [
        "\n",
        "# 3. Pizza with no toppings, but with options\n",
        "make_pizza(10, crust='stuffed', extra_cheese=True, gluten_free=True)\n"
      ]
    },
    {
      "cell_type": "markdown",
      "id": "fdbe489d",
      "metadata": {
        "id": "fdbe489d"
      },
      "source": [
        "## 1.2 A lambda function"
      ]
    },
    {
      "cell_type": "markdown",
      "id": "674f1a95",
      "metadata": {
        "id": "674f1a95"
      },
      "source": [
        "### A lambda function is a small anonymous function."
      ]
    },
    {
      "cell_type": "code",
      "execution_count": null,
      "id": "4d104309",
      "metadata": {
        "id": "4d104309"
      },
      "outputs": [],
      "source": [
        "# lambda (parms) : action"
      ]
    },
    {
      "cell_type": "code",
      "execution_count": null,
      "id": "e17fd414",
      "metadata": {
        "id": "e17fd414"
      },
      "outputs": [],
      "source": [
        "def compare(a,b):\n",
        "    return a>b"
      ]
    },
    {
      "cell_type": "code",
      "execution_count": null,
      "id": "a110eb66",
      "metadata": {
        "id": "a110eb66"
      },
      "outputs": [],
      "source": [
        "add = lambda a,b: compare(a,b)"
      ]
    },
    {
      "cell_type": "code",
      "execution_count": null,
      "id": "e5ae9074",
      "metadata": {
        "id": "e5ae9074",
        "outputId": "3094e9cb-95f0-45a1-df17-ce51a18d926d"
      },
      "outputs": [
        {
          "data": {
            "text/plain": [
              "True"
            ]
          },
          "execution_count": 72,
          "metadata": {},
          "output_type": "execute_result"
        }
      ],
      "source": [
        "add(3,2)"
      ]
    },
    {
      "cell_type": "code",
      "execution_count": null,
      "id": "9fc10e06",
      "metadata": {
        "id": "9fc10e06",
        "outputId": "499b60f8-1c88-401d-f5a5-8e51aab285fc"
      },
      "outputs": [
        {
          "data": {
            "text/plain": [
              "['a', 'b']"
            ]
          },
          "execution_count": 76,
          "metadata": {},
          "output_type": "execute_result"
        }
      ],
      "source": [
        "sorted({'a':8,'b':4})"
      ]
    },
    {
      "cell_type": "code",
      "execution_count": null,
      "id": "2bb11cd4",
      "metadata": {
        "id": "2bb11cd4",
        "outputId": "638c0c5f-f1af-4563-f85e-cf14fa278d44"
      },
      "outputs": [
        {
          "name": "stdout",
          "output_type": "stream",
          "text": [
            "10\n"
          ]
        }
      ],
      "source": [
        "sum = lambda firstNumber, secondNumber : firstNumber + secondNumber\n",
        "print(sum(1, 9))"
      ]
    },
    {
      "cell_type": "markdown",
      "id": "9881d489",
      "metadata": {
        "id": "9881d489"
      },
      "source": [
        "## Equivelent def function"
      ]
    },
    {
      "cell_type": "code",
      "execution_count": null,
      "id": "152f64e3",
      "metadata": {
        "id": "152f64e3",
        "outputId": "335b21ef-bd45-46b5-e136-879bc5592255"
      },
      "outputs": [
        {
          "name": "stdout",
          "output_type": "stream",
          "text": [
            "10\n"
          ]
        }
      ],
      "source": [
        "def function(firstNumber, secondNumber):\n",
        "    return firstNumber + secondNumber\n",
        "\n",
        "sum = function(1, 9)\n",
        "print(sum)"
      ]
    },
    {
      "cell_type": "code",
      "execution_count": null,
      "id": "c5ccc47c",
      "metadata": {
        "id": "c5ccc47c"
      },
      "outputs": [],
      "source": [
        "def f(x):\n",
        "    x-=1\n",
        "    if x<=0:\n",
        "        return 0\n",
        "    f()"
      ]
    },
    {
      "cell_type": "markdown",
      "id": "e5ddbe24",
      "metadata": {
        "id": "e5ddbe24"
      },
      "source": [
        "## 1.3 Recursion Function\n"
      ]
    },
    {
      "cell_type": "markdown",
      "id": "12a9db06",
      "metadata": {
        "id": "12a9db06"
      },
      "source": [
        "### in Python, we know that a function can call other functions. It is even possible for the function to call itself. These types of construct are termed as recursive functions"
      ]
    },
    {
      "cell_type": "code",
      "execution_count": null,
      "id": "0c84f6de",
      "metadata": {
        "id": "0c84f6de",
        "outputId": "4299f628-62e5-4a1d-db23-0243f4822b6b"
      },
      "outputs": [
        {
          "name": "stdout",
          "output_type": "stream",
          "text": [
            "The factorial of 4 is 24\n"
          ]
        }
      ],
      "source": [
        "def factorial(x):\n",
        "    if x == 1:\n",
        "        return 1\n",
        "    else:\n",
        "        return (x * factorial(x-1))\n",
        "\n",
        "\n",
        "num = 4\n",
        "print(\"The factorial of\", num, \"is\", factorial(num))"
      ]
    },
    {
      "cell_type": "markdown",
      "id": "2fb4746a",
      "metadata": {
        "id": "2fb4746a"
      },
      "source": [
        "## 1.4 built-in Functions"
      ]
    },
    {
      "cell_type": "markdown",
      "id": "58cd5cec",
      "metadata": {
        "id": "58cd5cec"
      },
      "source": [
        "###  built-in Functions are pre-defined functions provided by the Python language that can be used to perform common tasks."
      ]
    },
    {
      "cell_type": "markdown",
      "id": "98fb85f5",
      "metadata": {
        "id": "98fb85f5"
      },
      "source": [
        "#### example: abs() is a mathmatical built in function in python that gives the absolute value of a number"
      ]
    },
    {
      "cell_type": "code",
      "execution_count": null,
      "id": "b66b973d",
      "metadata": {
        "id": "b66b973d",
        "outputId": "82e04cb5-f547-4896-f315-0ed8cc648542"
      },
      "outputs": [
        {
          "name": "stdout",
          "output_type": "stream",
          "text": [
            "7\n"
          ]
        }
      ],
      "source": [
        "a = -7\n",
        "\n",
        "print(abs(a))"
      ]
    },
    {
      "cell_type": "markdown",
      "id": "e7a789d9",
      "metadata": {
        "id": "e7a789d9"
      },
      "source": [
        "## Input Function"
      ]
    },
    {
      "cell_type": "code",
      "execution_count": null,
      "id": "03735fd3",
      "metadata": {
        "id": "03735fd3",
        "outputId": "4cd5ee1c-cf32-4972-ea48-cb39332d8c73"
      },
      "outputs": [
        {
          "name": "stdout",
          "output_type": "stream",
          "text": [
            "Rakan\n"
          ]
        }
      ],
      "source": [
        "inpt = input(\"Enter your name: \")\n",
        "print(inpt)"
      ]
    },
    {
      "cell_type": "markdown",
      "id": "fa56a71b",
      "metadata": {
        "id": "fa56a71b"
      },
      "source": [
        "#### Task: search for three built in (mathmatical function, sequence function)"
      ]
    },
    {
      "cell_type": "code",
      "execution_count": null,
      "id": "af691cb6",
      "metadata": {
        "id": "af691cb6"
      },
      "outputs": [],
      "source": [
        "# math\n",
        "round()\n",
        "pow()\n",
        "min()\n",
        "max()\n",
        "abs()\n",
        "\n",
        "# seq\n",
        "len()\n",
        "enumerate()\n",
        "reversed()\n",
        "zip()\n",
        "any()\n",
        "all()"
      ]
    },
    {
      "cell_type": "code",
      "execution_count": null,
      "id": "e648e3a8",
      "metadata": {
        "id": "e648e3a8"
      },
      "outputs": [],
      "source": [
        "it = enumerate([1,2,3,4])"
      ]
    },
    {
      "cell_type": "code",
      "execution_count": null,
      "id": "10024138",
      "metadata": {
        "id": "10024138",
        "outputId": "1ba10e1f-880b-4abb-a0cc-ce659e1fd5ad"
      },
      "outputs": [
        {
          "name": "stdout",
          "output_type": "stream",
          "text": [
            "10 1\n",
            "11 2\n",
            "12 3\n",
            "13 4\n"
          ]
        }
      ],
      "source": [
        "for position, item in enumerate([1,2,3,4],10):\n",
        "    print(position,item)"
      ]
    },
    {
      "cell_type": "code",
      "execution_count": null,
      "id": "b77292a9",
      "metadata": {
        "id": "b77292a9",
        "outputId": "666c2937-d20e-444b-9052-d3c758b761f2"
      },
      "outputs": [
        {
          "data": {
            "text/plain": [
              "8"
            ]
          },
          "execution_count": 98,
          "metadata": {},
          "output_type": "execute_result"
        }
      ],
      "source": [
        "reversed([1,2,3,9,8])"
      ]
    },
    {
      "cell_type": "code",
      "execution_count": null,
      "id": "378f8c83",
      "metadata": {
        "id": "378f8c83",
        "outputId": "d651fb98-5d43-439e-bac7-57da55fcacae"
      },
      "outputs": [
        {
          "data": {
            "text/plain": [
              "{'riyadh': 0, 'abdullah': 1}"
            ]
          },
          "execution_count": 101,
          "metadata": {},
          "output_type": "execute_result"
        }
      ],
      "source": [
        "names: list[str] = ['riyadh', 'abdullah', 'rakan']\n",
        "ids = [0,1]\n",
        "dict(zip(names,ids))"
      ]
    },
    {
      "cell_type": "code",
      "execution_count": null,
      "id": "d58a2b80",
      "metadata": {
        "id": "d58a2b80",
        "outputId": "3076c5db-2d5d-4123-cbc5-1b3239b764f8"
      },
      "outputs": [
        {
          "data": {
            "text/plain": [
              "False"
            ]
          },
          "execution_count": 104,
          "metadata": {},
          "output_type": "execute_result"
        }
      ],
      "source": [
        "all([True,False,True])"
      ]
    },
    {
      "cell_type": "code",
      "execution_count": null,
      "id": "10da6278",
      "metadata": {
        "id": "10da6278",
        "outputId": "a8dd9f69-8911-4317-8c0a-12192314287d"
      },
      "outputs": [
        {
          "data": {
            "text/plain": [
              "True"
            ]
          },
          "execution_count": 105,
          "metadata": {},
          "output_type": "execute_result"
        }
      ],
      "source": [
        "any([True,False,True])"
      ]
    },
    {
      "cell_type": "code",
      "execution_count": null,
      "id": "9ffaa6b0",
      "metadata": {
        "id": "9ffaa6b0",
        "outputId": "bd8fa3a9-50c1-435b-bdd9-6876b9b25355"
      },
      "outputs": [
        {
          "data": {
            "text/plain": [
              "{100: 'red', 101: 'blue', 102: 'green'}"
            ]
          },
          "execution_count": 1,
          "metadata": {},
          "output_type": "execute_result"
        }
      ],
      "source": [
        "colors =['red','blue','green']\n",
        "dict(enumerate(colors, 100))"
      ]
    },
    {
      "cell_type": "markdown",
      "id": "cabe27a0",
      "metadata": {
        "id": "cabe27a0"
      },
      "source": [
        "# 2. Control flow"
      ]
    },
    {
      "cell_type": "markdown",
      "id": "593cec73",
      "metadata": {
        "id": "593cec73"
      },
      "source": [
        "## 2.1 Conditions"
      ]
    },
    {
      "cell_type": "markdown",
      "id": "f9e2acc9",
      "metadata": {
        "id": "f9e2acc9"
      },
      "source": [
        "### if steatment"
      ]
    },
    {
      "cell_type": "code",
      "execution_count": null,
      "id": "452e029b",
      "metadata": {
        "id": "452e029b"
      },
      "outputs": [],
      "source": [
        "value = 10\n",
        "\n",
        "if value == 20 and and or:\n",
        "    print(\"yes\")"
      ]
    },
    {
      "cell_type": "markdown",
      "id": "64324a64",
      "metadata": {
        "id": "64324a64"
      },
      "source": [
        "## if and else"
      ]
    },
    {
      "cell_type": "code",
      "execution_count": null,
      "id": "61c38047",
      "metadata": {
        "id": "61c38047",
        "outputId": "0ece8a51-9712-4432-963a-ae977c03d0e8"
      },
      "outputs": [
        {
          "name": "stdout",
          "output_type": "stream",
          "text": [
            "yes\n"
          ]
        }
      ],
      "source": [
        "value = 10\n",
        "if (value == 10):\n",
        "    print(\"yes\")\n",
        "else:\n",
        "    print(\"No\")"
      ]
    },
    {
      "cell_type": "markdown",
      "id": "bdafa80c",
      "metadata": {
        "id": "bdafa80c"
      },
      "source": [
        "## if, elif, else"
      ]
    },
    {
      "cell_type": "code",
      "execution_count": null,
      "id": "2fa1b161",
      "metadata": {
        "id": "2fa1b161",
        "outputId": "0668d431-b0a5-4131-8cb3-a3c4b2fcfe80"
      },
      "outputs": [
        {
          "name": "stdout",
          "output_type": "stream",
          "text": [
            "The two teams got the same score\n"
          ]
        }
      ],
      "source": [
        "teamBlueScore = teamRedScore = 7\n",
        "\n",
        "if teamBlueScore > teamRedScore:\n",
        "        print(\"Team Blue Won\")\n",
        "elif teamBlueScore == teamRedScore:\n",
        "        print(\"The two teams got the same score\")\n",
        "else:\n",
        "        print(\"Team Blue Lost\")"
      ]
    },
    {
      "cell_type": "code",
      "execution_count": null,
      "id": "2f3b1c4b",
      "metadata": {
        "id": "2f3b1c4b"
      },
      "outputs": [],
      "source": [
        "name = \"Mohammad\"\n",
        "number = 22\n",
        "\n",
        "if name == \"Mohammad\":\n",
        "    if number == 23:\n",
        "        print(\"Your name is Mohammad, and your number is 23\")"
      ]
    },
    {
      "cell_type": "markdown",
      "id": "2b1ab92a",
      "metadata": {
        "id": "2b1ab92a"
      },
      "source": [
        "## task: make use of Condition statement to automate any daily task\n"
      ]
    },
    {
      "cell_type": "code",
      "execution_count": null,
      "id": "98685dd2",
      "metadata": {
        "id": "98685dd2"
      },
      "outputs": [],
      "source": []
    },
    {
      "cell_type": "markdown",
      "id": "a39550cd",
      "metadata": {
        "id": "a39550cd"
      },
      "source": [
        "# 2.2 loops\n"
      ]
    },
    {
      "cell_type": "markdown",
      "id": "e8fe52b2",
      "metadata": {
        "id": "e8fe52b2"
      },
      "source": [
        "## While Loop"
      ]
    },
    {
      "cell_type": "code",
      "execution_count": null,
      "id": "23df1dd1",
      "metadata": {
        "id": "23df1dd1",
        "outputId": "0b44aa49-4ea0-49ea-9795-e38ce8592ca7"
      },
      "outputs": [
        {
          "name": "stdout",
          "output_type": "stream",
          "text": [
            "1\n",
            "2\n",
            "3\n",
            "4\n",
            "5\n",
            "6\n",
            "7\n",
            "8\n",
            "9\n",
            "10\n"
          ]
        }
      ],
      "source": [
        "x = 1\n",
        "\n",
        "while (x <= 10):\n",
        "    print(x)\n",
        "    x += 1"
      ]
    },
    {
      "cell_type": "markdown",
      "id": "0ad877ba",
      "metadata": {
        "id": "0ad877ba"
      },
      "source": [
        "## For Loop\n",
        "\n"
      ]
    },
    {
      "cell_type": "code",
      "execution_count": null,
      "id": "40479b0a",
      "metadata": {
        "id": "40479b0a",
        "outputId": "ecce68ed-23be-4248-dd6d-7e93d8d6dc15"
      },
      "outputs": [
        {
          "name": "stdout",
          "output_type": "stream",
          "text": [
            "1\n",
            "2\n",
            "3\n",
            "4\n",
            "5\n",
            "6\n",
            "7\n",
            "8\n",
            "9\n",
            "10\n"
          ]
        }
      ],
      "source": [
        "for i in range(1,11):\n",
        "    print(i)"
      ]
    },
    {
      "cell_type": "markdown",
      "id": "7e4d2b96",
      "metadata": {
        "id": "7e4d2b96"
      },
      "source": [
        "### loop with list"
      ]
    },
    {
      "cell_type": "code",
      "execution_count": null,
      "id": "00be9681",
      "metadata": {
        "id": "00be9681",
        "outputId": "7a1d120c-1fd0-4a22-a159-f9af772dcfb4"
      },
      "outputs": [
        {
          "name": "stdout",
          "output_type": "stream",
          "text": [
            "0\n",
            "1\n",
            "2\n"
          ]
        }
      ],
      "source": [
        "numbers = [0, 1, 2]\n",
        "\n",
        "for num in numbers:\n",
        "    print(num)"
      ]
    },
    {
      "cell_type": "markdown",
      "id": "5827a097",
      "metadata": {
        "id": "5827a097"
      },
      "source": [
        "###  task: loop with Dictionaries"
      ]
    },
    {
      "cell_type": "code",
      "execution_count": null,
      "id": "54259a59",
      "metadata": {
        "id": "54259a59",
        "outputId": "c497df5c-46cf-449c-cd18-6fdd83d2b709"
      },
      "outputs": [
        {
          "name": "stdout",
          "output_type": "stream",
          "text": [
            "riyadh\n",
            "TA\n",
            "name\n",
            "jop\n",
            "riyadh\n",
            "TA\n"
          ]
        }
      ],
      "source": [
        "dic: dict[str, str] = {'names': 'riyadh', \"jop\": 'TA'}\n",
        "\n",
        "for key, value in dic.items():\n",
        "    print(value)\n",
        "\n",
        "for key in dic.keys():\n",
        "    print(key)\n",
        "\n",
        "for value in dic.values():\n",
        "    print(value)"
      ]
    },
    {
      "cell_type": "markdown",
      "id": "7c6b054e",
      "metadata": {
        "id": "7c6b054e"
      },
      "source": [
        "### Nested Loops"
      ]
    },
    {
      "cell_type": "code",
      "execution_count": null,
      "id": "dce7c0ec",
      "metadata": {
        "id": "dce7c0ec",
        "outputId": "67cac28a-aeef-488a-b523-2f2b7fc8f9fa"
      },
      "outputs": [
        {
          "name": "stdout",
          "output_type": "stream",
          "text": [
            "1 A\n",
            "1 B\n",
            "1 C\n",
            "2 A\n",
            "2 B\n",
            "2 C\n"
          ]
        }
      ],
      "source": [
        "numbers = [1, 2]\n",
        "letters = [\"A\", \"B\", \"C\"]\n",
        "\n",
        "for num in numbers:\n",
        "    for letter in letters:\n",
        "        print(num, letter)"
      ]
    },
    {
      "cell_type": "code",
      "execution_count": null,
      "id": "1b4718e3",
      "metadata": {
        "id": "1b4718e3",
        "outputId": "0e903307-2bb6-4e8c-9dd2-9837d46c8d98"
      },
      "outputs": [
        {
          "name": "stdout",
          "output_type": "stream",
          "text": [
            "riyadh\n",
            "abdullah\n",
            "TA\n",
            "TA\n"
          ]
        }
      ],
      "source": [
        "dic: dict[str, str] = {'names': ['riyadh', \"abdullah\"], \"jop\": ['TA','TA']}\n",
        "\n",
        "for item in dic.values():\n",
        "    for subitem in item:\n",
        "        print(subitem)"
      ]
    },
    {
      "cell_type": "markdown",
      "id": "8aad13b7",
      "metadata": {
        "id": "8aad13b7"
      },
      "source": [
        "### Continue Statement"
      ]
    },
    {
      "cell_type": "code",
      "execution_count": null,
      "id": "0b771e90",
      "metadata": {
        "id": "0b771e90",
        "outputId": "1262eb06-21ab-4a77-bc85-f6637905e0c5"
      },
      "outputs": [
        {
          "name": "stdout",
          "output_type": "stream",
          "text": [
            "1  is odd\n",
            "3  is odd\n",
            "5  is odd\n"
          ]
        }
      ],
      "source": [
        "numbers = [1, 2, 3, 4, 5]\n",
        "\n",
        "for num in numbers:\n",
        "    if num % 2 == 0:\n",
        "        continue\n",
        "\n",
        "    print(num,\" is odd\")"
      ]
    },
    {
      "cell_type": "markdown",
      "id": "c4e019bd",
      "metadata": {
        "id": "c4e019bd"
      },
      "source": [
        "### Break Statement"
      ]
    },
    {
      "cell_type": "code",
      "execution_count": null,
      "id": "daf409e5",
      "metadata": {
        "id": "daf409e5",
        "outputId": "7c50e6d0-620c-42b0-dac2-8fd2f0858294"
      },
      "outputs": [
        {
          "name": "stdout",
          "output_type": "stream",
          "text": [
            "1  is odd\n"
          ]
        }
      ],
      "source": [
        "numbers = [1, 2, 3, 4, 5]\n",
        "for num in numbers:\n",
        "    if num % 2 == 0:\n",
        "        break\n",
        "    print(num,\" is odd\")"
      ]
    },
    {
      "cell_type": "code",
      "execution_count": null,
      "id": "fd250689",
      "metadata": {
        "id": "fd250689"
      },
      "outputs": [],
      "source": [
        "\n",
        "while True :\n",
        "    inp = int(input(\"enter operation number (1. add 2. sub -1. Exit)\"))\n",
        "    if (inp == -1):\n",
        "        break\n",
        "    elif (inp == 1):\n",
        "        pass\n",
        "    elif (inp == 2):\n",
        "        pass\n",
        ""
      ]
    },
    {
      "cell_type": "markdown",
      "id": "455377d5",
      "metadata": {
        "id": "455377d5"
      },
      "source": [
        "### Pass Statement"
      ]
    },
    {
      "cell_type": "code",
      "execution_count": null,
      "id": "b7dd8b66",
      "metadata": {
        "id": "b7dd8b66"
      },
      "outputs": [],
      "source": [
        "for x in [0, 1, 2]:\n",
        "    pass"
      ]
    },
    {
      "cell_type": "markdown",
      "id": "53f40e1e",
      "metadata": {
        "id": "53f40e1e"
      },
      "source": [
        "## task: make use of loops to automate any daily task\n"
      ]
    },
    {
      "cell_type": "code",
      "execution_count": null,
      "id": "74edbd6d",
      "metadata": {
        "id": "74edbd6d"
      },
      "outputs": [],
      "source": []
    },
    {
      "cell_type": "markdown",
      "id": "c5da6dcb",
      "metadata": {
        "id": "c5da6dcb"
      },
      "source": [
        "## 2.3 List Comprehension"
      ]
    },
    {
      "cell_type": "code",
      "execution_count": null,
      "id": "5d43e9b1",
      "metadata": {
        "id": "5d43e9b1",
        "outputId": "61e47f5d-351f-47d3-de0c-977bb2201e98"
      },
      "outputs": [
        {
          "name": "stdout",
          "output_type": "stream",
          "text": [
            "[1, 2, 3, 4, 5]\n"
          ]
        }
      ],
      "source": [
        "lst = []\n",
        "\n",
        "for i in [1, 2, 3, 4, 5]:\n",
        "    lst.append(i)\n",
        "\n",
        "print(lst)"
      ]
    },
    {
      "cell_type": "code",
      "execution_count": null,
      "id": "05e237e3",
      "metadata": {
        "id": "05e237e3",
        "outputId": "f8994039-6962-4dc9-8e89-7136c875f8ad"
      },
      "outputs": [
        {
          "data": {
            "text/plain": [
              "[1, 3, 5, 7, 9]"
            ]
          },
          "execution_count": 24,
          "metadata": {},
          "output_type": "execute_result"
        }
      ],
      "source": [
        "[i for i in range(0,11) if  i %2 != 0]"
      ]
    },
    {
      "cell_type": "code",
      "execution_count": null,
      "id": "f8b63521",
      "metadata": {
        "id": "f8b63521",
        "outputId": "584bb958-d7d8-4f14-ab92-2cc7f9b4fbe7"
      },
      "outputs": [
        {
          "data": {
            "text/plain": [
              "False"
            ]
          },
          "execution_count": 25,
          "metadata": {},
          "output_type": "execute_result"
        }
      ],
      "source": [
        "True if 1>2 else False"
      ]
    },
    {
      "cell_type": "code",
      "execution_count": null,
      "id": "a08f3e40",
      "metadata": {
        "id": "a08f3e40",
        "outputId": "b85dac14-301d-4416-ab14-436d9e995b53"
      },
      "outputs": [
        {
          "name": "stdout",
          "output_type": "stream",
          "text": [
            "[1, 2, 3, 4, 5]\n"
          ]
        }
      ],
      "source": [
        "lst = [i for i in [1, 2, 3, 4, 5]]\n",
        "\n",
        "print(lst)"
      ]
    },
    {
      "cell_type": "code",
      "execution_count": null,
      "id": "d5ca9961",
      "metadata": {
        "id": "d5ca9961",
        "outputId": "a585117d-6416-4e18-8a97-21f1856ef0d5"
      },
      "outputs": [
        {
          "name": "stdout",
          "output_type": "stream",
          "text": [
            "[2, 4, 6, 8, 10]\n"
          ]
        }
      ],
      "source": [
        "lst = [i for i in range(1, 11) if i % 2 == 0 ]\n",
        "\n",
        "print(lst)"
      ]
    },
    {
      "cell_type": "code",
      "execution_count": null,
      "id": "7ea92a2e",
      "metadata": {
        "id": "7ea92a2e"
      },
      "outputs": [],
      "source": [
        "# Try to produce list like the last one but insted of skipping odd numbers add 0 in there places"
      ]
    },
    {
      "cell_type": "code",
      "execution_count": null,
      "id": "1cc2f0d9",
      "metadata": {
        "id": "1cc2f0d9"
      },
      "outputs": [],
      "source": [
        "for i in range(0,11):\n",
        "    if (i%2==0):\n",
        "        continue"
      ]
    },
    {
      "cell_type": "code",
      "execution_count": null,
      "id": "e7d3f428",
      "metadata": {
        "id": "e7d3f428",
        "outputId": "a449d53a-5671-4e04-f5d6-99c9669f5de4"
      },
      "outputs": [
        {
          "data": {
            "text/plain": [
              "[0, -1, 2, -1, 4, -1, 6, -1, 8, -1, 10]"
            ]
          },
          "execution_count": 27,
          "metadata": {},
          "output_type": "execute_result"
        }
      ],
      "source": [
        "[ i if i %2 ==0 else -1 for i in range(0,11)]"
      ]
    },
    {
      "cell_type": "markdown",
      "id": "ca134fa5",
      "metadata": {
        "id": "ca134fa5"
      },
      "source": [
        "# 2.4 Try and Except\n"
      ]
    },
    {
      "cell_type": "code",
      "execution_count": null,
      "id": "9e22851c",
      "metadata": {
        "id": "9e22851c",
        "outputId": "86cce3fe-51f8-47ba-8e39-673ed990b80a"
      },
      "outputs": [
        {
          "ename": "ValueError",
          "evalue": "invalid literal for int() with base 10: 'a'",
          "output_type": "error",
          "traceback": [
            "\u001b[1;31m---------------------------------------------------------------------------\u001b[0m",
            "\u001b[1;31mValueError\u001b[0m                                Traceback (most recent call last)",
            "Cell \u001b[1;32mIn[29], line 2\u001b[0m\n\u001b[0;32m      1\u001b[0m enter \u001b[38;5;241m=\u001b[39m \u001b[38;5;28minput\u001b[39m(\u001b[38;5;124m'\u001b[39m\u001b[38;5;124mEnter your number to add it by 2 : \u001b[39m\u001b[38;5;124m'\u001b[39m)\n\u001b[1;32m----> 2\u001b[0m \u001b[38;5;28;43mint\u001b[39;49m\u001b[43m(\u001b[49m\u001b[43menter\u001b[49m\u001b[43m)\u001b[49m \u001b[38;5;241m+\u001b[39m \u001b[38;5;28mint\u001b[39m(\u001b[38;5;241m2\u001b[39m)\n",
            "\u001b[1;31mValueError\u001b[0m: invalid literal for int() with base 10: 'a'"
          ]
        }
      ],
      "source": [
        "enter = input('Enter your number to add it by 2 : ')\n",
        "int(enter) + int(2)"
      ]
    },
    {
      "cell_type": "code",
      "execution_count": null,
      "id": "b25367cd",
      "metadata": {
        "id": "b25367cd",
        "outputId": "d844a43e-ab32-4e50-93b1-8a4724928fcc"
      },
      "outputs": [
        {
          "ename": "ZeroDivisionError",
          "evalue": "division by zero",
          "output_type": "error",
          "traceback": [
            "\u001b[1;31m---------------------------------------------------------------------------\u001b[0m",
            "\u001b[1;31mZeroDivisionError\u001b[0m                         Traceback (most recent call last)",
            "Cell \u001b[1;32mIn[31], line 1\u001b[0m\n\u001b[1;32m----> 1\u001b[0m \u001b[38;5;241;43m1\u001b[39;49m\u001b[38;5;241;43m/\u001b[39;49m\u001b[38;5;241;43m0\u001b[39;49m\n",
            "\u001b[1;31mZeroDivisionError\u001b[0m: division by zero"
          ]
        }
      ],
      "source": [
        "1/0"
      ]
    },
    {
      "cell_type": "code",
      "execution_count": null,
      "id": "bef90227",
      "metadata": {
        "id": "bef90227",
        "outputId": "a09a845d-2b92-4d7d-d591-c1db6a966f95"
      },
      "outputs": [
        {
          "name": "stdout",
          "output_type": "stream",
          "text": [
            "3\n",
            "Hamad\n",
            "default\n",
            "Hello\n"
          ]
        }
      ],
      "source": [
        "try:\n",
        "    enter = input('Enter your number to add it by 2 : ')\n",
        "    print(int(enter) + int(2))\n",
        "    print('Hamad')\n",
        "except ValueError as e:\n",
        "    print('Ops!! you entered a string')\n",
        "finally:\n",
        "    print('default')\n",
        "\n",
        "print('Hello')"
      ]
    },
    {
      "cell_type": "code",
      "execution_count": null,
      "id": "6d325243",
      "metadata": {
        "id": "6d325243",
        "outputId": "74754611-0a6c-4a7c-b1a6-1f8b5d5bc390"
      },
      "outputs": [
        {
          "name": "stdout",
          "output_type": "stream",
          "text": [
            "can only concatenate str (not \"int\") to str\n",
            "Hamad\n"
          ]
        }
      ],
      "source": [
        "try:\n",
        "    enter = input('Enter your number to add it by 2 : ')\n",
        "    print(enter + 2)\n",
        "except Exception as e:\n",
        "    print(e)\n",
        "\n",
        "print('Hamad')"
      ]
    },
    {
      "cell_type": "markdown",
      "id": "f29a7693",
      "metadata": {
        "id": "f29a7693"
      },
      "source": [
        "#### Can we add new element to tuple using some \"TRICK\"?"
      ]
    },
    {
      "cell_type": "code",
      "execution_count": null,
      "id": "7538758d",
      "metadata": {
        "id": "7538758d",
        "outputId": "ee871d2c-c15e-4f75-f078-dfd368a2a525"
      },
      "outputs": [
        {
          "ename": "NameError",
          "evalue": "name 'my_tuple' is not defined",
          "output_type": "error",
          "traceback": [
            "\u001b[0;31m---------------------------------------------------------------------------\u001b[0m",
            "\u001b[0;31mNameError\u001b[0m                                 Traceback (most recent call last)",
            "Cell \u001b[0;32mIn[19], line 1\u001b[0m\n\u001b[0;32m----> 1\u001b[0m \u001b[38;5;28mprint\u001b[39m(\u001b[38;5;124mf\u001b[39m\u001b[38;5;124m'\u001b[39m\u001b[38;5;124mThe old tuple                          : \u001b[39m\u001b[38;5;132;01m{\u001b[39;00mmy_tuple\u001b[38;5;132;01m}\u001b[39;00m\u001b[38;5;124m'\u001b[39m)\n\u001b[1;32m      3\u001b[0m lst \u001b[38;5;241m=\u001b[39m \u001b[38;5;28mlist\u001b[39m(my_tuple)\n\u001b[1;32m      5\u001b[0m \u001b[38;5;28mprint\u001b[39m(\u001b[38;5;124mf\u001b[39m\u001b[38;5;124m'\u001b[39m\u001b[38;5;124mThe list after converting the tuple    : \u001b[39m\u001b[38;5;132;01m{\u001b[39;00mlst\u001b[38;5;132;01m}\u001b[39;00m\u001b[38;5;124m'\u001b[39m)\n",
            "\u001b[0;31mNameError\u001b[0m: name 'my_tuple' is not defined"
          ]
        }
      ],
      "source": [
        "print(f'The old tuple                          : {my_tuple}')\n",
        "\n",
        "lst = list(my_tuple)\n",
        "\n",
        "print(f'The list after converting the tuple    : {lst}')\n",
        "\n",
        "lst.append(6)\n",
        "\n",
        "print(f'The list after adding new element      : {lst}')\n",
        "\n",
        "new_tuple = tuple(lst)\n",
        "\n",
        "print(f'The new tuple after adding new element : {new_tuple}')"
      ]
    },
    {
      "cell_type": "markdown",
      "id": "db7ac7d2",
      "metadata": {
        "id": "db7ac7d2"
      },
      "source": [
        "#### Can we sort tuple using some \"TRICK\"?"
      ]
    },
    {
      "cell_type": "code",
      "execution_count": null,
      "id": "6ba3453e",
      "metadata": {
        "id": "6ba3453e",
        "outputId": "3a5bd2bc-d9bd-4bdc-facc-20512937f9af"
      },
      "outputs": [
        {
          "name": "stdout",
          "output_type": "stream",
          "text": [
            "The old tuple                          : (1, 2, 2, 3, 4, 4, 5)\n",
            "The list after converting the tuple    : [1, 2, 2, 3, 4, 4, 5]\n",
            "The list after sorting                 : [5, 4, 4, 3, 2, 2, 1]\n",
            "The new tuple after sorting            : (5, 4, 4, 3, 2, 2, 1)\n"
          ]
        }
      ],
      "source": [
        "print(f'The old tuple                          : {my_tuple}')\n",
        "\n",
        "lst = list(my_tuple)\n",
        "\n",
        "print(f'The list after converting the tuple    : {lst}')\n",
        "\n",
        "lst.sort(reverse=True)\n",
        "\n",
        "print(f'The list after sorting                 : {lst}')\n",
        "\n",
        "new_tuple = tuple(lst)\n",
        "\n",
        "print(f'The new tuple after sorting            : {new_tuple}')"
      ]
    },
    {
      "cell_type": "markdown",
      "id": "1fc8b342",
      "metadata": {
        "id": "1fc8b342"
      },
      "source": [
        "#### Can we change values using some \"TRICK\"?"
      ]
    },
    {
      "cell_type": "code",
      "execution_count": null,
      "id": "9131e9b4",
      "metadata": {
        "id": "9131e9b4",
        "outputId": "8783ec3c-585e-4cee-8cbd-ac08d397e127"
      },
      "outputs": [
        {
          "name": "stdout",
          "output_type": "stream",
          "text": [
            "The old tuple                                    : (1, 2, 2, 3, 4, 4, 5)\n",
            "The list after converting the tuple              : [1, 2, 2, 3, 4, 4, 5]\n",
            "The list after changing value of an element      : ['Hamad', 2, 2, 3, 4, 4, 5]\n",
            "The new tuple after changing value of an element : ('Hamad', 2, 2, 3, 4, 4, 5)\n"
          ]
        }
      ],
      "source": [
        "print(f'The old tuple                                    : {my_tuple}')\n",
        "\n",
        "lst = list(my_tuple)\n",
        "\n",
        "print(f'The list after converting the tuple              : {lst}')\n",
        "\n",
        "lst[0] = 'Hamad'\n",
        "\n",
        "print(f'The list after changing value of an element      : {lst}')\n",
        "\n",
        "new_tuple = tuple(lst)\n",
        "\n",
        "print(f'The new tuple after changing value of an element : {new_tuple}')"
      ]
    },
    {
      "cell_type": "markdown",
      "id": "92ef3eb3",
      "metadata": {
        "id": "92ef3eb3"
      },
      "source": [
        "#### Can we delete an element from tuple using some \"TRICK\"?"
      ]
    },
    {
      "cell_type": "code",
      "execution_count": null,
      "id": "720ca8c3",
      "metadata": {
        "id": "720ca8c3",
        "outputId": "67d8ed66-efb6-47a0-c0bf-97b49088dec7"
      },
      "outputs": [
        {
          "name": "stdout",
          "output_type": "stream",
          "text": [
            "The old tuple                           : (1, 2, 2, 3, 4, 4, 5)\n",
            "The list after converting the tuple     : [1, 2, 2, 3, 4, 4, 5]\n",
            "The list after deleting an element      : [2, 2, 3, 4, 4, 5]\n",
            "The new tuple after deleting an element : (2, 2, 3, 4, 4, 5)\n"
          ]
        }
      ],
      "source": [
        "print(f'The old tuple                           : {my_tuple}')\n",
        "\n",
        "lst = list(my_tuple)\n",
        "\n",
        "print(f'The list after converting the tuple     : {lst}')\n",
        "\n",
        "lst.pop(0)\n",
        "\n",
        "print(f'The list after deleting an element      : {lst}')\n",
        "\n",
        "new_tuple = tuple(lst)\n",
        "\n",
        "print(f'The new tuple after deleting an element : {new_tuple}')"
      ]
    },
    {
      "cell_type": "markdown",
      "id": "e0c3e08d",
      "metadata": {
        "id": "e0c3e08d"
      },
      "source": [
        "# 3. Classes and Objects"
      ]
    },
    {
      "cell_type": "markdown",
      "id": "f7669610",
      "metadata": {
        "id": "f7669610"
      },
      "source": [
        "#### Create class"
      ]
    },
    {
      "cell_type": "code",
      "execution_count": null,
      "id": "a21df02b",
      "metadata": {
        "id": "a21df02b"
      },
      "outputs": [],
      "source": [
        "class Vehicle:\n",
        "\n",
        "    # Constructor function\n",
        "    def __init__(self, max_speed, mileage, color):\n",
        "        self.max_speed = max_speed\n",
        "        self.mileage = mileage\n",
        "        self.color = color\n",
        "        self.seating_capacity = None\n",
        "\n",
        "    # Add value to attribute function\n",
        "    def assign_seating_capacity(self, seating_capacity):\n",
        "        self.seating_capacity = seating_capacity\n",
        "\n",
        "    # Display info function\n",
        "    def display_properties(self):\n",
        "        print(\"Properties of the Vehicle:\")\n",
        "        print(\"Color:\", self.color)\n",
        "        print(\"Maximum Speed:\", self.max_speed)\n",
        "        print(\"Mileage:\", self.mileage)\n",
        "        print(\"Seating Capacity:\", self.seating_capacity)"
      ]
    },
    {
      "cell_type": "markdown",
      "id": "927e28c0",
      "metadata": {
        "id": "927e28c0"
      },
      "source": [
        "#### Create objects"
      ]
    },
    {
      "cell_type": "code",
      "execution_count": null,
      "id": "35b8cd6e",
      "metadata": {
        "id": "35b8cd6e",
        "outputId": "715b59db-5fcd-484b-8932-2fd131c14bd6"
      },
      "outputs": [
        {
          "name": "stdout",
          "output_type": "stream",
          "text": [
            "Properties of the Vehicle:\n",
            "Color: White\n",
            "Maximum Speed: 200\n",
            "Mileage: 50000\n",
            "Seating Capacity: 5\n",
            "\n",
            "Properties of the Vehicle:\n",
            "Color: Black\n",
            "Maximum Speed: 180\n",
            "Mileage: 75000\n",
            "Seating Capacity: 4\n"
          ]
        }
      ],
      "source": [
        "vehicle1 = Vehicle(200, 50000, 'White')\n",
        "vehicle1.assign_seating_capacity(5)\n",
        "vehicle1.display_properties()\n",
        "\n",
        "print()\n",
        "\n",
        "vehicle2 = Vehicle(180, 75000, 'Black')\n",
        "vehicle2.assign_seating_capacity(4)\n",
        "vehicle2.display_properties()"
      ]
    },
    {
      "cell_type": "markdown",
      "id": "33c48847",
      "metadata": {
        "id": "33c48847"
      },
      "source": [
        "#### Inheritance"
      ]
    },
    {
      "cell_type": "code",
      "execution_count": null,
      "id": "753fa8e0",
      "metadata": {
        "id": "753fa8e0"
      },
      "outputs": [],
      "source": [
        "class Human():\n",
        "    def __init__(self, name, age):\n",
        "        self.name = name\n",
        "        self.age = age"
      ]
    },
    {
      "cell_type": "code",
      "execution_count": null,
      "id": "1717cf74",
      "metadata": {
        "id": "1717cf74"
      },
      "outputs": [],
      "source": [
        "class Student(Human):\n",
        "\n",
        "    def __init__(self, name, age, id_number, university):\n",
        "        super().__init__(name, age)\n",
        "        self.id_number = id_number\n",
        "        self.university = university\n",
        "\n",
        "    def student_data(self):\n",
        "        return {\n",
        "            'name'       : self.name,\n",
        "            'age'        : self.age,\n",
        "            'id number'  : self.id_number,\n",
        "            'university' : self.university\n",
        "        }"
      ]
    },
    {
      "cell_type": "code",
      "execution_count": null,
      "id": "7b000cd4",
      "metadata": {
        "id": "7b000cd4",
        "outputId": "9b28ba00-ae14-4742-e68d-50e5f9d6ff71"
      },
      "outputs": [
        {
          "data": {
            "text/plain": [
              "{'name': 'Hamad', 'age': 21, 'id number': 444000333, 'university': 'KSU'}"
            ]
          },
          "execution_count": 96,
          "metadata": {},
          "output_type": "execute_result"
        }
      ],
      "source": [
        "s = Student('Hamad', 21, 444000333, 'KSU')\n",
        "s.student_data()"
      ]
    },
    {
      "cell_type": "code",
      "execution_count": null,
      "id": "836b14d3",
      "metadata": {
        "id": "836b14d3"
      },
      "outputs": [],
      "source": [
        "class Circle(object):\n",
        "\n",
        "    # Constructor\n",
        "    def __init__(self, radius=3, color='blue'):\n",
        "        self.radius = radius # Attribute 1\n",
        "        self.color = color   # Attribute 2\n",
        "\n",
        "    # Method 1\n",
        "    def add_radius(self, r):\n",
        "        self.radius = self.radius + r\n",
        "        return(self.radius)\n",
        "\n",
        "    # Method 2\n",
        "    def change_color(self, c):\n",
        "        self.color = c\n",
        "\n",
        "    # Method 3\n",
        "    def draw_circle(self):\n",
        "\n",
        "        import matplotlib.pyplot as plt\n",
        "        %matplotlib inline\n",
        "\n",
        "        plt.gca().add_patch(plt.Circle((0, 0), radius=self.radius, fc=self.color))\n",
        "        plt.axis('scaled')\n",
        "        plt.show()"
      ]
    },
    {
      "cell_type": "code",
      "execution_count": null,
      "id": "c6b8e8b6",
      "metadata": {
        "id": "c6b8e8b6"
      },
      "outputs": [],
      "source": [
        "red_circle = Circle(10, 'red')"
      ]
    },
    {
      "cell_type": "code",
      "execution_count": null,
      "id": "3ff87ec8",
      "metadata": {
        "id": "3ff87ec8",
        "outputId": "8dddbc0f-1339-4e2b-9816-2a2e36963bd4"
      },
      "outputs": [
        {
          "data": {
            "image/png": "[encoded data removed]",
            "text/plain": [
              "<Figure size 432x288 with 1 Axes>"
            ]
          },
          "metadata": {
            "needs_background": "light"
          },
          "output_type": "display_data"
        }
      ],
      "source": [
        "red_circle.draw_circle()"
      ]
    },
    {
      "cell_type": "code",
      "execution_count": null,
      "id": "3f95c5ea",
      "metadata": {
        "id": "3f95c5ea",
        "outputId": "dcac4444-b683-46a6-f958-15fc96656e11"
      },
      "outputs": [
        {
          "name": "stdout",
          "output_type": "stream",
          "text": [
            "10 red\n"
          ]
        }
      ],
      "source": [
        "print(red_circle.radius, red_circle.color)"
      ]
    },
    {
      "cell_type": "code",
      "execution_count": null,
      "id": "3b8ece12",
      "metadata": {
        "id": "3b8ece12",
        "outputId": "60cf3de9-62e1-48c1-93f8-fc5fb05bc9b9"
      },
      "outputs": [
        {
          "name": "stdout",
          "output_type": "stream",
          "text": [
            "Radius of object: 10\n",
            "Radius of object of after applying the method add_radius(2): 12\n"
          ]
        }
      ],
      "source": [
        "print('Radius of object:',red_circle.radius)\n",
        "red_circle.add_radius(2)\n",
        "print('Radius of object of after applying the method add_radius(2):',red_circle.radius)"
      ]
    },
    {
      "cell_type": "markdown",
      "id": "281392ef",
      "metadata": {
        "id": "281392ef"
      },
      "source": [
        "## Additional Resources:\n",
        "- Python’s standard documentation, https://docs.python.org/3/tutorial/index.html\n",
        "- Introducing Python, https://learning.oreilly.com/library/view/introducing-python-2nd/9781492051374/\n",
        "- Fluent Python, https://learning.oreilly.com/library/view/fluent-python-2nd/9781492056348/\n",
        "- https://www.w3schools.com/python/"
      ]
    }
  ],
  "metadata": {
    "colab": {
      "provenance": [],
      "include_colab_link": true
    },
    "kernelspec": {
      "display_name": "Python 3",
      "language": "python",
      "name": "python3"
    },
    "language_info": {
      "codemirror_mode": {
        "name": "ipython",
        "version": 3
      },
      "file_extension": ".py",
      "mimetype": "text/x-python",
      "name": "python",
      "nbconvert_exporter": "python",
      "pygments_lexer": "ipython3",
      "version": "3.11.9"
    }
  },
  "nbformat": 4,
  "nbformat_minor": 5
}